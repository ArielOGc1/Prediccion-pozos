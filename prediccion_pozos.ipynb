{
 "cells": [
  {
   "cell_type": "markdown",
   "id": "d5e7f727",
   "metadata": {},
   "source": [
    "# Proyecto"
   ]
  },
  {
   "cell_type": "markdown",
   "id": "5b2277da",
   "metadata": {},
   "source": [
    "## Carga de datos y preparación de datos"
   ]
  },
  {
   "cell_type": "code",
   "execution_count": null,
   "id": "d8ded05b",
   "metadata": {},
   "outputs": [],
   "source": [
    "# Importando librerías\n",
    "import pandas as pd\n",
    "\n",
    "data_0= pd.read_csv('data/geo_data_0.csv')\n",
    "data_1= pd.read_csv('data/geo_data_1.csv')\n",
    "data_2= pd.read_csv('data/geo_data_2.csv')"
   ]
  },
  {
   "cell_type": "code",
   "execution_count": 2,
   "id": "80968e48",
   "metadata": {},
   "outputs": [
    {
     "name": "stdout",
     "output_type": "stream",
     "text": [
      "<class 'pandas.core.frame.DataFrame'>\n",
      "RangeIndex: 100000 entries, 0 to 99999\n",
      "Data columns (total 5 columns):\n",
      " #   Column   Non-Null Count   Dtype  \n",
      "---  ------   --------------   -----  \n",
      " 0   id       100000 non-null  object \n",
      " 1   f0       100000 non-null  float64\n",
      " 2   f1       100000 non-null  float64\n",
      " 3   f2       100000 non-null  float64\n",
      " 4   product  100000 non-null  float64\n",
      "dtypes: float64(4), object(1)\n",
      "memory usage: 3.8+ MB\n"
     ]
    }
   ],
   "source": [
    "data_0.info()"
   ]
  },
  {
   "cell_type": "code",
   "execution_count": 3,
   "id": "560dc07a",
   "metadata": {},
   "outputs": [
    {
     "data": {
      "text/html": [
       "<div>\n",
       "<style scoped>\n",
       "    .dataframe tbody tr th:only-of-type {\n",
       "        vertical-align: middle;\n",
       "    }\n",
       "\n",
       "    .dataframe tbody tr th {\n",
       "        vertical-align: top;\n",
       "    }\n",
       "\n",
       "    .dataframe thead th {\n",
       "        text-align: right;\n",
       "    }\n",
       "</style>\n",
       "<table border=\"1\" class=\"dataframe\">\n",
       "  <thead>\n",
       "    <tr style=\"text-align: right;\">\n",
       "      <th></th>\n",
       "      <th>id</th>\n",
       "      <th>f0</th>\n",
       "      <th>f1</th>\n",
       "      <th>f2</th>\n",
       "      <th>product</th>\n",
       "    </tr>\n",
       "  </thead>\n",
       "  <tbody>\n",
       "    <tr>\n",
       "      <th>0</th>\n",
       "      <td>txEyH</td>\n",
       "      <td>0.705745</td>\n",
       "      <td>-0.497823</td>\n",
       "      <td>1.221170</td>\n",
       "      <td>105.280062</td>\n",
       "    </tr>\n",
       "    <tr>\n",
       "      <th>1</th>\n",
       "      <td>2acmU</td>\n",
       "      <td>1.334711</td>\n",
       "      <td>-0.340164</td>\n",
       "      <td>4.365080</td>\n",
       "      <td>73.037750</td>\n",
       "    </tr>\n",
       "    <tr>\n",
       "      <th>2</th>\n",
       "      <td>409Wp</td>\n",
       "      <td>1.022732</td>\n",
       "      <td>0.151990</td>\n",
       "      <td>1.419926</td>\n",
       "      <td>85.265647</td>\n",
       "    </tr>\n",
       "    <tr>\n",
       "      <th>3</th>\n",
       "      <td>iJLyR</td>\n",
       "      <td>-0.032172</td>\n",
       "      <td>0.139033</td>\n",
       "      <td>2.978566</td>\n",
       "      <td>168.620776</td>\n",
       "    </tr>\n",
       "    <tr>\n",
       "      <th>4</th>\n",
       "      <td>Xdl7t</td>\n",
       "      <td>1.988431</td>\n",
       "      <td>0.155413</td>\n",
       "      <td>4.751769</td>\n",
       "      <td>154.036647</td>\n",
       "    </tr>\n",
       "    <tr>\n",
       "      <th>...</th>\n",
       "      <td>...</td>\n",
       "      <td>...</td>\n",
       "      <td>...</td>\n",
       "      <td>...</td>\n",
       "      <td>...</td>\n",
       "    </tr>\n",
       "    <tr>\n",
       "      <th>99995</th>\n",
       "      <td>DLsed</td>\n",
       "      <td>0.971957</td>\n",
       "      <td>0.370953</td>\n",
       "      <td>6.075346</td>\n",
       "      <td>110.744026</td>\n",
       "    </tr>\n",
       "    <tr>\n",
       "      <th>99996</th>\n",
       "      <td>QKivN</td>\n",
       "      <td>1.392429</td>\n",
       "      <td>-0.382606</td>\n",
       "      <td>1.273912</td>\n",
       "      <td>122.346843</td>\n",
       "    </tr>\n",
       "    <tr>\n",
       "      <th>99997</th>\n",
       "      <td>3rnvd</td>\n",
       "      <td>1.029585</td>\n",
       "      <td>0.018787</td>\n",
       "      <td>-1.348308</td>\n",
       "      <td>64.375443</td>\n",
       "    </tr>\n",
       "    <tr>\n",
       "      <th>99998</th>\n",
       "      <td>7kl59</td>\n",
       "      <td>0.998163</td>\n",
       "      <td>-0.528582</td>\n",
       "      <td>1.583869</td>\n",
       "      <td>74.040764</td>\n",
       "    </tr>\n",
       "    <tr>\n",
       "      <th>99999</th>\n",
       "      <td>1CWhH</td>\n",
       "      <td>1.764754</td>\n",
       "      <td>-0.266417</td>\n",
       "      <td>5.722849</td>\n",
       "      <td>149.633246</td>\n",
       "    </tr>\n",
       "  </tbody>\n",
       "</table>\n",
       "<p>100000 rows × 5 columns</p>\n",
       "</div>"
      ],
      "text/plain": [
       "          id        f0        f1        f2     product\n",
       "0      txEyH  0.705745 -0.497823  1.221170  105.280062\n",
       "1      2acmU  1.334711 -0.340164  4.365080   73.037750\n",
       "2      409Wp  1.022732  0.151990  1.419926   85.265647\n",
       "3      iJLyR -0.032172  0.139033  2.978566  168.620776\n",
       "4      Xdl7t  1.988431  0.155413  4.751769  154.036647\n",
       "...      ...       ...       ...       ...         ...\n",
       "99995  DLsed  0.971957  0.370953  6.075346  110.744026\n",
       "99996  QKivN  1.392429 -0.382606  1.273912  122.346843\n",
       "99997  3rnvd  1.029585  0.018787 -1.348308   64.375443\n",
       "99998  7kl59  0.998163 -0.528582  1.583869   74.040764\n",
       "99999  1CWhH  1.764754 -0.266417  5.722849  149.633246\n",
       "\n",
       "[100000 rows x 5 columns]"
      ]
     },
     "execution_count": 3,
     "metadata": {},
     "output_type": "execute_result"
    }
   ],
   "source": [
    "data_0"
   ]
  },
  {
   "cell_type": "code",
   "execution_count": 4,
   "id": "278ec7fd",
   "metadata": {},
   "outputs": [
    {
     "name": "stdout",
     "output_type": "stream",
     "text": [
      "<class 'pandas.core.frame.DataFrame'>\n",
      "RangeIndex: 100000 entries, 0 to 99999\n",
      "Data columns (total 5 columns):\n",
      " #   Column   Non-Null Count   Dtype  \n",
      "---  ------   --------------   -----  \n",
      " 0   id       100000 non-null  object \n",
      " 1   f0       100000 non-null  float64\n",
      " 2   f1       100000 non-null  float64\n",
      " 3   f2       100000 non-null  float64\n",
      " 4   product  100000 non-null  float64\n",
      "dtypes: float64(4), object(1)\n",
      "memory usage: 3.8+ MB\n"
     ]
    }
   ],
   "source": [
    "data_1.info()"
   ]
  },
  {
   "cell_type": "code",
   "execution_count": 5,
   "id": "8b7a5db6",
   "metadata": {},
   "outputs": [
    {
     "data": {
      "text/html": [
       "<div>\n",
       "<style scoped>\n",
       "    .dataframe tbody tr th:only-of-type {\n",
       "        vertical-align: middle;\n",
       "    }\n",
       "\n",
       "    .dataframe tbody tr th {\n",
       "        vertical-align: top;\n",
       "    }\n",
       "\n",
       "    .dataframe thead th {\n",
       "        text-align: right;\n",
       "    }\n",
       "</style>\n",
       "<table border=\"1\" class=\"dataframe\">\n",
       "  <thead>\n",
       "    <tr style=\"text-align: right;\">\n",
       "      <th></th>\n",
       "      <th>id</th>\n",
       "      <th>f0</th>\n",
       "      <th>f1</th>\n",
       "      <th>f2</th>\n",
       "      <th>product</th>\n",
       "    </tr>\n",
       "  </thead>\n",
       "  <tbody>\n",
       "    <tr>\n",
       "      <th>0</th>\n",
       "      <td>kBEdx</td>\n",
       "      <td>-15.001348</td>\n",
       "      <td>-8.276000</td>\n",
       "      <td>-0.005876</td>\n",
       "      <td>3.179103</td>\n",
       "    </tr>\n",
       "    <tr>\n",
       "      <th>1</th>\n",
       "      <td>62mP7</td>\n",
       "      <td>14.272088</td>\n",
       "      <td>-3.475083</td>\n",
       "      <td>0.999183</td>\n",
       "      <td>26.953261</td>\n",
       "    </tr>\n",
       "    <tr>\n",
       "      <th>2</th>\n",
       "      <td>vyE1P</td>\n",
       "      <td>6.263187</td>\n",
       "      <td>-5.948386</td>\n",
       "      <td>5.001160</td>\n",
       "      <td>134.766305</td>\n",
       "    </tr>\n",
       "    <tr>\n",
       "      <th>3</th>\n",
       "      <td>KcrkZ</td>\n",
       "      <td>-13.081196</td>\n",
       "      <td>-11.506057</td>\n",
       "      <td>4.999415</td>\n",
       "      <td>137.945408</td>\n",
       "    </tr>\n",
       "    <tr>\n",
       "      <th>4</th>\n",
       "      <td>AHL4O</td>\n",
       "      <td>12.702195</td>\n",
       "      <td>-8.147433</td>\n",
       "      <td>5.004363</td>\n",
       "      <td>134.766305</td>\n",
       "    </tr>\n",
       "    <tr>\n",
       "      <th>...</th>\n",
       "      <td>...</td>\n",
       "      <td>...</td>\n",
       "      <td>...</td>\n",
       "      <td>...</td>\n",
       "      <td>...</td>\n",
       "    </tr>\n",
       "    <tr>\n",
       "      <th>99995</th>\n",
       "      <td>QywKC</td>\n",
       "      <td>9.535637</td>\n",
       "      <td>-6.878139</td>\n",
       "      <td>1.998296</td>\n",
       "      <td>53.906522</td>\n",
       "    </tr>\n",
       "    <tr>\n",
       "      <th>99996</th>\n",
       "      <td>ptvty</td>\n",
       "      <td>-10.160631</td>\n",
       "      <td>-12.558096</td>\n",
       "      <td>5.005581</td>\n",
       "      <td>137.945408</td>\n",
       "    </tr>\n",
       "    <tr>\n",
       "      <th>99997</th>\n",
       "      <td>09gWa</td>\n",
       "      <td>-7.378891</td>\n",
       "      <td>-3.084104</td>\n",
       "      <td>4.998651</td>\n",
       "      <td>137.945408</td>\n",
       "    </tr>\n",
       "    <tr>\n",
       "      <th>99998</th>\n",
       "      <td>rqwUm</td>\n",
       "      <td>0.665714</td>\n",
       "      <td>-6.152593</td>\n",
       "      <td>1.000146</td>\n",
       "      <td>30.132364</td>\n",
       "    </tr>\n",
       "    <tr>\n",
       "      <th>99999</th>\n",
       "      <td>relB0</td>\n",
       "      <td>-3.426139</td>\n",
       "      <td>-7.794274</td>\n",
       "      <td>-0.003299</td>\n",
       "      <td>3.179103</td>\n",
       "    </tr>\n",
       "  </tbody>\n",
       "</table>\n",
       "<p>100000 rows × 5 columns</p>\n",
       "</div>"
      ],
      "text/plain": [
       "          id         f0         f1        f2     product\n",
       "0      kBEdx -15.001348  -8.276000 -0.005876    3.179103\n",
       "1      62mP7  14.272088  -3.475083  0.999183   26.953261\n",
       "2      vyE1P   6.263187  -5.948386  5.001160  134.766305\n",
       "3      KcrkZ -13.081196 -11.506057  4.999415  137.945408\n",
       "4      AHL4O  12.702195  -8.147433  5.004363  134.766305\n",
       "...      ...        ...        ...       ...         ...\n",
       "99995  QywKC   9.535637  -6.878139  1.998296   53.906522\n",
       "99996  ptvty -10.160631 -12.558096  5.005581  137.945408\n",
       "99997  09gWa  -7.378891  -3.084104  4.998651  137.945408\n",
       "99998  rqwUm   0.665714  -6.152593  1.000146   30.132364\n",
       "99999  relB0  -3.426139  -7.794274 -0.003299    3.179103\n",
       "\n",
       "[100000 rows x 5 columns]"
      ]
     },
     "execution_count": 5,
     "metadata": {},
     "output_type": "execute_result"
    }
   ],
   "source": [
    "data_1"
   ]
  },
  {
   "cell_type": "code",
   "execution_count": 6,
   "id": "888d150a",
   "metadata": {},
   "outputs": [
    {
     "name": "stdout",
     "output_type": "stream",
     "text": [
      "<class 'pandas.core.frame.DataFrame'>\n",
      "RangeIndex: 100000 entries, 0 to 99999\n",
      "Data columns (total 5 columns):\n",
      " #   Column   Non-Null Count   Dtype  \n",
      "---  ------   --------------   -----  \n",
      " 0   id       100000 non-null  object \n",
      " 1   f0       100000 non-null  float64\n",
      " 2   f1       100000 non-null  float64\n",
      " 3   f2       100000 non-null  float64\n",
      " 4   product  100000 non-null  float64\n",
      "dtypes: float64(4), object(1)\n",
      "memory usage: 3.8+ MB\n"
     ]
    }
   ],
   "source": [
    "data_2.info()"
   ]
  },
  {
   "cell_type": "code",
   "execution_count": 7,
   "id": "ae230ac4",
   "metadata": {},
   "outputs": [
    {
     "data": {
      "text/html": [
       "<div>\n",
       "<style scoped>\n",
       "    .dataframe tbody tr th:only-of-type {\n",
       "        vertical-align: middle;\n",
       "    }\n",
       "\n",
       "    .dataframe tbody tr th {\n",
       "        vertical-align: top;\n",
       "    }\n",
       "\n",
       "    .dataframe thead th {\n",
       "        text-align: right;\n",
       "    }\n",
       "</style>\n",
       "<table border=\"1\" class=\"dataframe\">\n",
       "  <thead>\n",
       "    <tr style=\"text-align: right;\">\n",
       "      <th></th>\n",
       "      <th>id</th>\n",
       "      <th>f0</th>\n",
       "      <th>f1</th>\n",
       "      <th>f2</th>\n",
       "      <th>product</th>\n",
       "    </tr>\n",
       "  </thead>\n",
       "  <tbody>\n",
       "    <tr>\n",
       "      <th>0</th>\n",
       "      <td>fwXo0</td>\n",
       "      <td>-1.146987</td>\n",
       "      <td>0.963328</td>\n",
       "      <td>-0.828965</td>\n",
       "      <td>27.758673</td>\n",
       "    </tr>\n",
       "    <tr>\n",
       "      <th>1</th>\n",
       "      <td>WJtFt</td>\n",
       "      <td>0.262778</td>\n",
       "      <td>0.269839</td>\n",
       "      <td>-2.530187</td>\n",
       "      <td>56.069697</td>\n",
       "    </tr>\n",
       "    <tr>\n",
       "      <th>2</th>\n",
       "      <td>ovLUW</td>\n",
       "      <td>0.194587</td>\n",
       "      <td>0.289035</td>\n",
       "      <td>-5.586433</td>\n",
       "      <td>62.871910</td>\n",
       "    </tr>\n",
       "    <tr>\n",
       "      <th>3</th>\n",
       "      <td>q6cA6</td>\n",
       "      <td>2.236060</td>\n",
       "      <td>-0.553760</td>\n",
       "      <td>0.930038</td>\n",
       "      <td>114.572842</td>\n",
       "    </tr>\n",
       "    <tr>\n",
       "      <th>4</th>\n",
       "      <td>WPMUX</td>\n",
       "      <td>-0.515993</td>\n",
       "      <td>1.716266</td>\n",
       "      <td>5.899011</td>\n",
       "      <td>149.600746</td>\n",
       "    </tr>\n",
       "    <tr>\n",
       "      <th>...</th>\n",
       "      <td>...</td>\n",
       "      <td>...</td>\n",
       "      <td>...</td>\n",
       "      <td>...</td>\n",
       "      <td>...</td>\n",
       "    </tr>\n",
       "    <tr>\n",
       "      <th>99995</th>\n",
       "      <td>4GxBu</td>\n",
       "      <td>-1.777037</td>\n",
       "      <td>1.125220</td>\n",
       "      <td>6.263374</td>\n",
       "      <td>172.327046</td>\n",
       "    </tr>\n",
       "    <tr>\n",
       "      <th>99996</th>\n",
       "      <td>YKFjq</td>\n",
       "      <td>-1.261523</td>\n",
       "      <td>-0.894828</td>\n",
       "      <td>2.524545</td>\n",
       "      <td>138.748846</td>\n",
       "    </tr>\n",
       "    <tr>\n",
       "      <th>99997</th>\n",
       "      <td>tKPY3</td>\n",
       "      <td>-1.199934</td>\n",
       "      <td>-2.957637</td>\n",
       "      <td>5.219411</td>\n",
       "      <td>157.080080</td>\n",
       "    </tr>\n",
       "    <tr>\n",
       "      <th>99998</th>\n",
       "      <td>nmxp2</td>\n",
       "      <td>-2.419896</td>\n",
       "      <td>2.417221</td>\n",
       "      <td>-5.548444</td>\n",
       "      <td>51.795253</td>\n",
       "    </tr>\n",
       "    <tr>\n",
       "      <th>99999</th>\n",
       "      <td>V9kWn</td>\n",
       "      <td>-2.551421</td>\n",
       "      <td>-2.025625</td>\n",
       "      <td>6.090891</td>\n",
       "      <td>102.775767</td>\n",
       "    </tr>\n",
       "  </tbody>\n",
       "</table>\n",
       "<p>100000 rows × 5 columns</p>\n",
       "</div>"
      ],
      "text/plain": [
       "          id        f0        f1        f2     product\n",
       "0      fwXo0 -1.146987  0.963328 -0.828965   27.758673\n",
       "1      WJtFt  0.262778  0.269839 -2.530187   56.069697\n",
       "2      ovLUW  0.194587  0.289035 -5.586433   62.871910\n",
       "3      q6cA6  2.236060 -0.553760  0.930038  114.572842\n",
       "4      WPMUX -0.515993  1.716266  5.899011  149.600746\n",
       "...      ...       ...       ...       ...         ...\n",
       "99995  4GxBu -1.777037  1.125220  6.263374  172.327046\n",
       "99996  YKFjq -1.261523 -0.894828  2.524545  138.748846\n",
       "99997  tKPY3 -1.199934 -2.957637  5.219411  157.080080\n",
       "99998  nmxp2 -2.419896  2.417221 -5.548444   51.795253\n",
       "99999  V9kWn -2.551421 -2.025625  6.090891  102.775767\n",
       "\n",
       "[100000 rows x 5 columns]"
      ]
     },
     "execution_count": 7,
     "metadata": {},
     "output_type": "execute_result"
    }
   ],
   "source": [
    "data_2"
   ]
  },
  {
   "cell_type": "markdown",
   "id": "67c5c8f7",
   "metadata": {},
   "source": [
    "Al observar información general de los DataFrames se puede ver que podemos quitar la columna \"id\" ya que esta no afecta a la predicción del modelo y haciendo este cambio podemos empezar a trabajar con los datos."
   ]
  },
  {
   "cell_type": "code",
   "execution_count": 8,
   "id": "fb88fdad",
   "metadata": {},
   "outputs": [],
   "source": [
    "data_0= data_0.drop(['id'], axis= 1)\n",
    "data_1= data_1.drop(['id'], axis= 1)\n",
    "data_2= data_2.drop(['id'], axis= 1)"
   ]
  },
  {
   "cell_type": "markdown",
   "id": "e75b9dfe",
   "metadata": {},
   "source": [
    "Una vez realizado este cambio se puede trabajar con los DF"
   ]
  },
  {
   "cell_type": "code",
   "execution_count": 11,
   "id": "3c6f53d8",
   "metadata": {},
   "outputs": [],
   "source": [
    "# Importando librerías\n",
    "from sklearn.model_selection import train_test_split\n",
    "from sklearn.linear_model import LinearRegression\n",
    "from sklearn.metrics import mean_squared_error\n",
    "# Al tener que repetir algunos pasos para todos los DataFrames es conveniente crear funciones\n",
    "def data_split(df):\n",
    "    features= df.drop(['product'], axis= 1)\n",
    "    target= df['product']\n",
    "    features_train, features_valid, target_train, target_valid= train_test_split(features, target, test_size= 0.25, random_state= 12345)\n",
    "    return features_train, features_valid, target_train, target_valid\n",
    "def train_and_predict(x_train, x_valid, y_train, y_valid):\n",
    "    model= LinearRegression()\n",
    "    model.fit(x_train, y_train)\n",
    "    predictions= model.predict(x_valid)\n",
    "    mse= mean_squared_error(y_valid, predictions)\n",
    "    rmse= mse ** 0.5\n",
    "    return predictions, rmse"
   ]
  },
  {
   "cell_type": "code",
   "execution_count": 12,
   "id": "98f0bc4d",
   "metadata": {},
   "outputs": [
    {
     "name": "stdout",
     "output_type": "stream",
     "text": [
      "RMSE de la primera región:  37.5794217150813\n",
      "Volúmen medio de reservas de la primera región:  92.59256778438035\n"
     ]
    }
   ],
   "source": [
    "features_train_0, features_valid_0, target_train_0, target_valid_0= data_split(data_0)\n",
    "predictions_0, rmse_0= train_and_predict(features_train_0, features_valid_0, target_train_0, target_valid_0)\n",
    "print('RMSE de la primera región: ', rmse_0)\n",
    "print('Volúmen medio de reservas de la primera región: ', predictions_0.mean())\n"
   ]
  },
  {
   "cell_type": "code",
   "execution_count": 13,
   "id": "d3c8baf7",
   "metadata": {},
   "outputs": [
    {
     "name": "stdout",
     "output_type": "stream",
     "text": [
      "RMSE de la segunda región:  0.8930992867756168\n",
      "Volúmen medio de reservas de la segunda región:  68.728546895446\n"
     ]
    }
   ],
   "source": [
    "features_train_1, features_valid_1, target_train_1, target_valid_1= data_split(data_1)\n",
    "predictions_1, rmse_1= train_and_predict(features_train_1, features_valid_1, target_train_1, target_valid_1)\n",
    "print('RMSE de la segunda región: ', rmse_1)\n",
    "print('Volúmen medio de reservas de la segunda región: ', predictions_1.mean())"
   ]
  },
  {
   "cell_type": "code",
   "execution_count": 14,
   "id": "06337d30",
   "metadata": {},
   "outputs": [
    {
     "name": "stdout",
     "output_type": "stream",
     "text": [
      "RMSE de la tercera región:  40.02970873393434\n",
      "Volúmen medio de reservas de la tercera región:  94.96504596800489\n"
     ]
    }
   ],
   "source": [
    "features_train_2, features_valid_2, target_train_2, target_valid_2= data_split(data_2)\n",
    "predictions_2, rmse_2= train_and_predict(features_train_2, features_valid_2, target_train_2, target_valid_2)\n",
    "print('RMSE de la tercera región: ', rmse_2)\n",
    "print('Volúmen medio de reservas de la tercera región: ', predictions_2.mean())"
   ]
  },
  {
   "cell_type": "markdown",
   "id": "9184b861",
   "metadata": {},
   "source": [
    "- A juzgar por los resultados podemos ver que el modelo predice mucho mejor para la segunda región, esta es la más confiable pero su media de reservas podría no alcanzar las ganancias deseadas.\n",
    "- Las regiones uno y tres tienen más potencial de ganancias, pero su alta variabilidad en sus predicciones podría implicar pozos no rentables."
   ]
  },
  {
   "cell_type": "markdown",
   "id": "cb566b54",
   "metadata": {},
   "source": [
    "## Cálculo de ganancias"
   ]
  },
  {
   "cell_type": "code",
   "execution_count": 16,
   "id": "d07e5b1a",
   "metadata": {},
   "outputs": [
    {
     "name": "stdout",
     "output_type": "stream",
     "text": [
      "Umbral mínimo para no tener perdidas:  111.11111111111111\n",
      "Promedio región 1:  92.59256778438035\n",
      "Promedio región 2:  68.728546895446\n",
      "Promedio región 3:  94.96504596800489\n"
     ]
    }
   ],
   "source": [
    "# Umbral de barriles\n",
    "min_unit= 500_000/4500\n",
    "# Promedio de reservas\n",
    "promedio_0= predictions_0.mean()\n",
    "promedio_1= predictions_1.mean()\n",
    "promedio_2= predictions_2.mean()\n",
    "\n",
    "print('Umbral mínimo para no tener perdidas: ', min_unit)\n",
    "print('Promedio región 1: ', promedio_0)\n",
    "print('Promedio región 2: ', promedio_1)\n",
    "print('Promedio región 3: ', promedio_2)"
   ]
  },
  {
   "cell_type": "markdown",
   "id": "80b57442",
   "metadata": {},
   "source": [
    "- Ninguna región cumple con el umbral mínimo para no tener perdidas.\n",
    "- Pero este es un promedio general aun no conocemos el potencial de los mejores pozos."
   ]
  },
  {
   "cell_type": "markdown",
   "id": "a858363e",
   "metadata": {},
   "source": [
    "## Ganancia en conjuntos de pozos"
   ]
  },
  {
   "cell_type": "code",
   "execution_count": 17,
   "id": "0a683a45",
   "metadata": {},
   "outputs": [],
   "source": [
    "# Funcion con \"argsort\" para conocer los 200 pozos con valores de predicción mas altos\n",
    "def calculate_profit(predictions, target):\n",
    "    pozos_200= predictions.argsort()[-200:] # Índice de los 200 más altos\n",
    "    total_reserves= target.iloc[pozos_200].sum() # Suma de los objetivos\n",
    "    profit= total_reserves * 4500\n",
    "    return total_reserves, profit"
   ]
  },
  {
   "cell_type": "code",
   "execution_count": 18,
   "id": "b4c291c1",
   "metadata": {},
   "outputs": [
    {
     "name": "stdout",
     "output_type": "stream",
     "text": [
      "Beneficio región 1: 133208260.43139851, reservas: 29601.83565142189\n",
      "Beneficio región 2: 124150866.96681511, reservas: 27589.081548181137\n",
      "Beneficio región 3: 127103499.63599832, reservas: 28245.22214133296\n"
     ]
    }
   ],
   "source": [
    "total_reserves_0, profit_0= calculate_profit(predictions_0, target_valid_0)\n",
    "total_reserves_1, profit_1= calculate_profit(predictions_1, target_valid_1)\n",
    "total_reserves_2, profit_2= calculate_profit(predictions_2, target_valid_2)\n",
    "\n",
    "print(f'Beneficio región 1: {profit_0}, reservas: {total_reserves_0}')\n",
    "print(f'Beneficio región 2: {profit_1}, reservas: {total_reserves_1}')\n",
    "print(f'Beneficio región 3: {profit_2}, reservas: {total_reserves_2}')"
   ]
  },
  {
   "cell_type": "markdown",
   "id": "68a4a709",
   "metadata": {},
   "source": [
    "- En base al beneficio y tambien de reservas la mejor región es la 1.\n",
    "- En base a predicciones la mejor región era la 2.\n",
    "- Realizando un acercamiento a la respuesta, en este caso optare por un termino medio, con la región 3."
   ]
  },
  {
   "cell_type": "markdown",
   "id": "7ad21e43",
   "metadata": {},
   "source": [
    "## Cálculo de riesgos y ganancias por cada región"
   ]
  },
  {
   "cell_type": "code",
   "execution_count": 19,
   "id": "00d8260a",
   "metadata": {},
   "outputs": [],
   "source": [
    "import numpy as np\n",
    "# Funcion de bootstrapping ya que se repetira para cada región\n",
    "state= np.random.RandomState(12345)\n",
    "def bootstrap(predictions, targets, n_iters= 1000, n_sample= 500, n_top= 200, price_per_unit= 4500, invertion= 100_000_000):\n",
    "    profits= []\n",
    "    # Indices\n",
    "    idx_all= predictions.index\n",
    "    for i in range(n_iters):\n",
    "        # np.random.choice: elige elementos al azar de una lista/array, en este caso eligimos 500\n",
    "        sample_idx= np.random.choice(idx_all, size= n_sample, replace= False)\n",
    "\n",
    "        # De los 500 elegimos los mejores 200\n",
    "        sample_preds= predictions.loc[sample_idx]\n",
    "        idx_top= sample_preds.nlargest(n_top).index # Indice de los 200 mejores\n",
    "\n",
    "        total_reserve= targets.loc[idx_top].sum()\n",
    "        # calculo de la ganancia\n",
    "        revenue= total_reserve * price_per_unit\n",
    "        profit= revenue - invertion\n",
    "        profits.append(profit)\n",
    "\n",
    "    # Convirtiendo la lista en un numpy array\n",
    "    profits= np.array(profits)\n",
    "    profit_mean= profits.mean()\n",
    "    # Intervalo de confianza\n",
    "    lower= np.percentile(profits, 2.5)\n",
    "    upper= np.percentile(profits, 97.5)\n",
    "    risk= (profits < 0).mean() * 100 # proporcion de perdidas\n",
    "\n",
    "    return profit_mean, lower, upper, risk, profits"
   ]
  },
  {
   "cell_type": "code",
   "execution_count": 20,
   "id": "4e485797",
   "metadata": {},
   "outputs": [],
   "source": [
    "pred_series_3 = pd.Series(predictions_2, index=target_valid_2.index)\n",
    "target_series_3 = pd.Series(target_valid_2.values, index=target_valid_2.index)\n",
    "\n",
    "profit_mean_2, lower_2, upper_2, risk_2, profits_2= bootstrap(pred_series_3, target_series_3)"
   ]
  },
  {
   "cell_type": "code",
   "execution_count": 21,
   "id": "4ce3f1f8",
   "metadata": {},
   "outputs": [
    {
     "name": "stdout",
     "output_type": "stream",
     "text": [
      "Beneficio promedio de la región 3:  3838101.5450337618\n",
      "Intervalo de confianza 95% de la región 3: lower -1338518.52227834, upper 9150142.914721284\n",
      "Riesgo de perdida de la región 3:  6.7\n"
     ]
    }
   ],
   "source": [
    "print('Beneficio promedio de la región 3: ', profit_mean_2)\n",
    "print(f'Intervalo de confianza 95% de la región 3: lower {lower_2}, upper {upper_2}')\n",
    "print('Riesgo de perdida de la región 3: ', risk_2)"
   ]
  },
  {
   "cell_type": "code",
   "execution_count": 22,
   "id": "b2ac46de",
   "metadata": {},
   "outputs": [
    {
     "name": "stdout",
     "output_type": "stream",
     "text": [
      "Beneficio promedio de la región 1:  3918145.3170589455\n",
      "Intervalo de confianza 95% de la región 1: lower -740580.2149975016, upper 8909746.089604842\n",
      "Riesgo de perdida de la región 1:  5.5\n",
      "\n",
      "Beneficio promedio de la región 2:  4526996.255608707\n",
      "Intervalo de confianza 95% de la región 2: lower -740580.2149975016, upper 8445595.696013559\n",
      "Riesgo de perdida de la región 2:  1.6\n"
     ]
    }
   ],
   "source": [
    "# Mismo procedimiento para las demas regiones\n",
    "pred_series_0 = pd.Series(predictions_0, index=target_valid_0.index)\n",
    "target_series_0 = pd.Series(target_valid_0.values, index=target_valid_0.index)\n",
    "\n",
    "profit_mean_0, lower_0, upper_0, risk_0, profits_0= bootstrap(pred_series_0, target_series_0)\n",
    "print('Beneficio promedio de la región 1: ', profit_mean_0)\n",
    "print(f'Intervalo de confianza 95% de la región 1: lower {lower_0}, upper {upper_0}')\n",
    "print('Riesgo de perdida de la región 1: ', risk_0)\n",
    "print()\n",
    "pred_series_1 = pd.Series(predictions_1, index=target_valid_1.index)\n",
    "target_series_1 = pd.Series(target_valid_1.values, index=target_valid_1.index)\n",
    "\n",
    "profit_mean_1, lower_1, upper_1, risk_1, profits_1= bootstrap(pred_series_1, target_series_1)\n",
    "print('Beneficio promedio de la región 2: ', profit_mean_1)\n",
    "print(f'Intervalo de confianza 95% de la región 2: lower {lower_0}, upper {upper_1}')\n",
    "print('Riesgo de perdida de la región 2: ', risk_1)"
   ]
  },
  {
   "cell_type": "markdown",
   "id": "49c07f75",
   "metadata": {},
   "source": [
    "- Al conocer el beneficio promedio y el riesgo de perdida, podemos ver que la mejor región para invertir es la 2 ya que tiene un beneficio promedio mas alto de los tres y el riesgo de perdida mas bajo de los 3.\n",
    "- La peor región para invertir es la 1 con un beneficio promedio mas bajo y el riesgo de perdida mas alto.\n",
    "- La región que elegi no fue la mejor pero esta entre un punto medio, para este caso no coincide mi elección anterior con mi elección final.\n",
    "- La mejor región para trabajar sera la 2."
   ]
  },
  {
   "cell_type": "markdown",
   "id": "b7aed232",
   "metadata": {},
   "source": []
  }
 ],
 "metadata": {
  "kernelspec": {
   "display_name": "base",
   "language": "python",
   "name": "python3"
  },
  "language_info": {
   "codemirror_mode": {
    "name": "ipython",
    "version": 3
   },
   "file_extension": ".py",
   "mimetype": "text/x-python",
   "name": "python",
   "nbconvert_exporter": "python",
   "pygments_lexer": "ipython3",
   "version": "3.12.7"
  }
 },
 "nbformat": 4,
 "nbformat_minor": 5
}
